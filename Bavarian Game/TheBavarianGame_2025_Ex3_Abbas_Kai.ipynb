{
 "cells": [
  {
   "cell_type": "markdown",
   "metadata": {},
   "source": [
    "## The Bavarian Game: Exercise 3 (Feedback)\n",
    "Submitted by **Mohammed Abbas Ansari, Kai Rothe**"
   ]
  },
  {
   "cell_type": "markdown",
   "metadata": {},
   "source": [
    "### Task 1: Implementation of Feedback Types\n",
    "\n",
    "#### Experiments Design\n",
    "\n",
    "As our main task, we experimented with the block structure as mentioned in the slides:\n",
    "\n",
    "| Attempts | Perturbation | Gradual | Feedback |\n",
    "| :-: | :-: | :-:| :-: |\n",
    "| 1 - 10 | False | False | complete |\n",
    "| 11 - 40 | True | True | complete |\n",
    "| 41 - 50 | False | False | complete |\n",
    "| 51 - 60 | False | False | trajectory |\n",
    "| 61 - 90 | True | True | trajectory |\n",
    "| 91 - 100 | False | False | trajectory |\n",
    "| 101 - 110 | False | False | endpos |\n",
    "| 111 - 140 | True | True | endpos |\n",
    "| 141 - 150 | False | False | endpos |\n",
    "| 151 - 160 | False | False | rl |\n",
    "| 161 - 190 | True | True | rl |\n",
    "| 191 - 200 | False | False | rl |\n",
    "\n",
    "#### Feedbacks Implementation Code\n",
    "```py\n",
    "def draw_feedback():\n",
    "    \"\"\"Display feedback based on the feedback type.\"\"\"\n",
    "    global feedback_type, last_trajectory, trajectory\n",
    "    if not last_trajectory and trajectory:\n",
    "        if feedback_type == 'trajectory':\n",
    "            pygame.draw.lines(screen, YELLOW, False, trajectory[-1], 2)\n",
    "        elif feedback_type == 'endpos':\n",
    "            end_pos = trajectory[-1][-1]\n",
    "            pygame.draw.circle(screen, WHITE, (int(end_pos[0]), int(end_pos[1])), pint_radius + 2, 2)\n",
    "        elif feedback_type == 'rl':\n",
    "            end_pos = trajectory[-1][-1]\n",
    "            color = GREEN_LAMP if point_in_polygon(end_pos, GREEN_TRIANGLE) else RED_LAMP\n",
    "            pygame.draw.circle(screen, color, START_POS, FREE_ZONE_RADIUS+10, 10)\n",
    "```\n",
    "\n",
    "#### Experiment Design Implementation\n",
    "```py\n",
    "no_perturb_trials = args.no_perturb\n",
    "perturb_trials = args.perturb\n",
    "none_feedback_block = [\n",
    "    #Normal visual feedback\n",
    "    {'feedback': None, 'perturbation': False, 'gradual': False, 'num_trials': no_perturb_trials},  # 10 trials without perturbation\n",
    "    {'feedback': None, 'perturbation': True, 'gradual': True, 'num_trials': perturb_trials, 'initial_force': 0.2, 'sudden_force': 2.0},  # 30 trials with gradual perturbation\n",
    "    {'feedback': None, 'perturbation': False, 'gradual': False, 'num_trials': no_perturb_trials},  # 10 trials without perturbation\n",
    "]\n",
    "\n",
    "trajectory_feedback_block = [\n",
    "    # ADD Trajectory feedback\n",
    "    {'feedback': \"trajectory\", 'perturbation': False, 'gradual': False, 'num_trials': no_perturb_trials},  # 10 trials without perturbation\n",
    "    {'feedback': \"trajectory\", 'perturbation': True, 'gradual': True, 'num_trials': perturb_trials, 'initial_force': 0.2, 'sudden_force': 2.0},  # 30 trials with gradual perturbation\n",
    "    {'feedback': \"trajectory\", 'perturbation': False, 'gradual': False, 'num_trials': no_perturb_trials},  # 10 trials without perturbation\n",
    "]\n",
    "\n",
    "endpos_feedback_block = [\n",
    "    # ADD End position feedback\n",
    "    {'feedback': \"endpos\", 'perturbation': False, 'gradual': False, 'num_trials': no_perturb_trials},  # 10 trials without perturbation\n",
    "    {'feedback': \"endpos\", 'perturbation': True, 'gradual': True, 'num_trials': perturb_trials, 'initial_force': 0.2, 'sudden_force': 2.0},  # 30 trials with gradual perturbation\n",
    "    {'feedback': \"endpos\", 'perturbation': False, 'gradual': False, 'num_trials': no_perturb_trials},  # 10 trials without perturbation\n",
    "]\n",
    "\n",
    "rl_feedback_block = [\n",
    "    # ADD RL feedback\n",
    "    {'feedback': \"rl\", 'perturbation': False, 'gradual': False, 'num_trials': no_perturb_trials},  # 10 trials without perturbation\n",
    "    {'feedback': \"rl\", 'perturbation': True, 'gradual': True, 'num_trials': perturb_trials, 'initial_force': 0.2, 'sudden_force': 2.0},  # 30 trials with gradual perturbation\n",
    "    {'feedback': \"rl\", 'perturbation': False, 'gradual': False, 'num_trials': no_perturb_trials},  # 10 trials without perturbation\n",
    "]\n",
    "\n",
    "forward_block_structure = none_feedback_block + trajectory_feedback_block + endpos_feedback_block + rl_feedback_block\n",
    "reverse_block_structure = rl_feedback_block + endpos_feedback_block + trajectory_feedback_block + none_feedback_block\n",
    "\n",
    "block_structure = forward_block_structure if not args.backward else reverse_block_structure\n",
    "```"
   ]
  },
  {
   "cell_type": "markdown",
   "metadata": {},
   "source": [
    "### Task 2: Analysis of feedback on unbiased subjects"
   ]
  },
  {
   "cell_type": "markdown",
   "metadata": {},
   "source": [
    "### Task 3: Discussion of results\n",
    "1. What’s the effect on subject’s performance of each feedback_type?\n",
    "2. Under which feedback_type was your subject able to adapt the best?"
   ]
  },
  {
   "cell_type": "markdown",
   "metadata": {},
   "source": [
    "### Task 4: Increasing Feedback Task"
   ]
  },
  {
   "cell_type": "markdown",
   "metadata": {},
   "source": [
    "For our **task 4**, we experimented with a reverse block structure where we started with the rl feedback block and gradually increased the feedback that the subject received:\n",
    "\n",
    "| Attempts | Perturbation | Gradual | Feedback |\n",
    "| :-: | :-: | :-:| :-: |\n",
    "| 1 - 10 | False | False | rl |\n",
    "| 11 - 40 | True | True | rl |\n",
    "| 41 - 50 | False | False | rl |\n",
    "| 51 - 60 | False | False | endpos |\n",
    "| 61 - 90 | True | True | endpos |\n",
    "| 91 - 100 | False | False | endpos |\n",
    "| 101 - 110 | False | False | trajectory |\n",
    "| 111 - 140 | True | True | trajectory |\n",
    "| 141 - 150 | False | False | trajectory |\n",
    "| 151 - 160 | False | False | complete |\n",
    "| 161 - 190 | True | True | complete |\n",
    "| 191 - 200 | False | False | complete |\n"
   ]
  }
 ],
 "metadata": {
  "language_info": {
   "name": "python"
  }
 },
 "nbformat": 4,
 "nbformat_minor": 2
}
